{
  "nbformat": 4,
  "nbformat_minor": 0,
  "metadata": {
    "colab": {
      "name": "AutoEncoder Movie Rating.ipynb",
      "version": "0.3.2",
      "provenance": [],
      "collapsed_sections": []
    },
    "kernelspec": {
      "name": "python3",
      "display_name": "Python 3"
    }
  },
  "cells": [
    {
      "metadata": {
        "id": "YRMb7ti4_dP-",
        "colab_type": "code",
        "colab": {}
      },
      "cell_type": "code",
      "source": [
        "# http://pytorch.org/\n",
        "from os import path\n",
        "from wheel.pep425tags import get_abbr_impl, get_impl_ver, get_abi_tag\n",
        "platform = '{}{}-{}'.format(get_abbr_impl(), get_impl_ver(), get_abi_tag())\n",
        "\n",
        "accelerator = 'cu80' if path.exists('/opt/bin/nvidia-smi') else 'cpu'\n",
        "\n",
        "!pip install -q http://download.pytorch.org/whl/{accelerator}/torch-0.3.0.post4-{platform}-linux_x86_64.whl torchvision\n",
        "import torch"
      ],
      "execution_count": 0,
      "outputs": []
    },
    {
      "metadata": {
        "id": "YGK7FeDi_j_k",
        "colab_type": "code",
        "colab": {}
      },
      "cell_type": "code",
      "source": [
        "import numpy as np\n",
        "import pandas as pd\n",
        "import torch.nn as nn\n",
        "import torch.nn.parallel\n",
        "import torch.optim as optim\n",
        "import torch.utils.data\n",
        "from torch.autograd import Variable"
      ],
      "execution_count": 0,
      "outputs": []
    },
    {
      "metadata": {
        "id": "2SPpM2mpABjD",
        "colab_type": "code",
        "colab": {}
      },
      "cell_type": "code",
      "source": [
        "movies=pd.read_csv('movies.dat',sep='::', header=None, engine='python',encoding='latin-1')"
      ],
      "execution_count": 0,
      "outputs": []
    },
    {
      "metadata": {
        "id": "HrWcydyQBRq9",
        "colab_type": "code",
        "colab": {
          "base_uri": "https://localhost:8080/",
          "height": 204
        },
        "outputId": "d52aba55-7227-4b8e-af7e-05a5b52eb1e0"
      },
      "cell_type": "code",
      "source": [
        "movies.head()"
      ],
      "execution_count": 15,
      "outputs": [
        {
          "output_type": "execute_result",
          "data": {
            "text/html": [
              "<div>\n",
              "<style scoped>\n",
              "    .dataframe tbody tr th:only-of-type {\n",
              "        vertical-align: middle;\n",
              "    }\n",
              "\n",
              "    .dataframe tbody tr th {\n",
              "        vertical-align: top;\n",
              "    }\n",
              "\n",
              "    .dataframe thead th {\n",
              "        text-align: right;\n",
              "    }\n",
              "</style>\n",
              "<table border=\"1\" class=\"dataframe\">\n",
              "  <thead>\n",
              "    <tr style=\"text-align: right;\">\n",
              "      <th></th>\n",
              "      <th>0</th>\n",
              "      <th>1</th>\n",
              "      <th>2</th>\n",
              "    </tr>\n",
              "  </thead>\n",
              "  <tbody>\n",
              "    <tr>\n",
              "      <th>0</th>\n",
              "      <td>1</td>\n",
              "      <td>Toy Story (1995)</td>\n",
              "      <td>Animation|Children's|Comedy</td>\n",
              "    </tr>\n",
              "    <tr>\n",
              "      <th>1</th>\n",
              "      <td>2</td>\n",
              "      <td>Jumanji (1995)</td>\n",
              "      <td>Adventure|Children's|Fantasy</td>\n",
              "    </tr>\n",
              "    <tr>\n",
              "      <th>2</th>\n",
              "      <td>3</td>\n",
              "      <td>Grumpier Old Men (1995)</td>\n",
              "      <td>Comedy|Romance</td>\n",
              "    </tr>\n",
              "    <tr>\n",
              "      <th>3</th>\n",
              "      <td>4</td>\n",
              "      <td>Waiting to Exhale (1995)</td>\n",
              "      <td>Comedy|Drama</td>\n",
              "    </tr>\n",
              "    <tr>\n",
              "      <th>4</th>\n",
              "      <td>5</td>\n",
              "      <td>Father of the Bride Part II (1995)</td>\n",
              "      <td>Comedy</td>\n",
              "    </tr>\n",
              "  </tbody>\n",
              "</table>\n",
              "</div>"
            ],
            "text/plain": [
              "   0                                   1                             2\n",
              "0  1                    Toy Story (1995)   Animation|Children's|Comedy\n",
              "1  2                      Jumanji (1995)  Adventure|Children's|Fantasy\n",
              "2  3             Grumpier Old Men (1995)                Comedy|Romance\n",
              "3  4            Waiting to Exhale (1995)                  Comedy|Drama\n",
              "4  5  Father of the Bride Part II (1995)                        Comedy"
            ]
          },
          "metadata": {
            "tags": []
          },
          "execution_count": 15
        }
      ]
    },
    {
      "metadata": {
        "id": "Wg_ELw4BBR4J",
        "colab_type": "code",
        "colab": {
          "base_uri": "https://localhost:8080/",
          "height": 161
        },
        "outputId": "19d3ccb6-dacc-4b91-957a-2f62731f9d8a"
      },
      "cell_type": "code",
      "source": [
        "movies.info()"
      ],
      "execution_count": 16,
      "outputs": [
        {
          "output_type": "stream",
          "text": [
            "<class 'pandas.core.frame.DataFrame'>\n",
            "RangeIndex: 3883 entries, 0 to 3882\n",
            "Data columns (total 3 columns):\n",
            "0    3883 non-null int64\n",
            "1    3883 non-null object\n",
            "2    3883 non-null object\n",
            "dtypes: int64(1), object(2)\n",
            "memory usage: 91.1+ KB\n"
          ],
          "name": "stdout"
        }
      ]
    },
    {
      "metadata": {
        "id": "1ZItLpBIBR_M",
        "colab_type": "code",
        "colab": {}
      },
      "cell_type": "code",
      "source": [
        "users=pd.read_csv('users.dat',sep='::',header=None,engine='python',encoding='latin-1')"
      ],
      "execution_count": 0,
      "outputs": []
    },
    {
      "metadata": {
        "id": "MN550YgcBSEB",
        "colab_type": "code",
        "colab": {
          "base_uri": "https://localhost:8080/",
          "height": 204
        },
        "outputId": "8285809e-d2b8-4d37-e875-78555690b5f2"
      },
      "cell_type": "code",
      "source": [
        "users.head()"
      ],
      "execution_count": 18,
      "outputs": [
        {
          "output_type": "execute_result",
          "data": {
            "text/html": [
              "<div>\n",
              "<style scoped>\n",
              "    .dataframe tbody tr th:only-of-type {\n",
              "        vertical-align: middle;\n",
              "    }\n",
              "\n",
              "    .dataframe tbody tr th {\n",
              "        vertical-align: top;\n",
              "    }\n",
              "\n",
              "    .dataframe thead th {\n",
              "        text-align: right;\n",
              "    }\n",
              "</style>\n",
              "<table border=\"1\" class=\"dataframe\">\n",
              "  <thead>\n",
              "    <tr style=\"text-align: right;\">\n",
              "      <th></th>\n",
              "      <th>0</th>\n",
              "      <th>1</th>\n",
              "      <th>2</th>\n",
              "      <th>3</th>\n",
              "      <th>4</th>\n",
              "    </tr>\n",
              "  </thead>\n",
              "  <tbody>\n",
              "    <tr>\n",
              "      <th>0</th>\n",
              "      <td>1</td>\n",
              "      <td>F</td>\n",
              "      <td>1</td>\n",
              "      <td>10</td>\n",
              "      <td>48067</td>\n",
              "    </tr>\n",
              "    <tr>\n",
              "      <th>1</th>\n",
              "      <td>2</td>\n",
              "      <td>M</td>\n",
              "      <td>56</td>\n",
              "      <td>16</td>\n",
              "      <td>70072</td>\n",
              "    </tr>\n",
              "    <tr>\n",
              "      <th>2</th>\n",
              "      <td>3</td>\n",
              "      <td>M</td>\n",
              "      <td>25</td>\n",
              "      <td>15</td>\n",
              "      <td>55117</td>\n",
              "    </tr>\n",
              "    <tr>\n",
              "      <th>3</th>\n",
              "      <td>4</td>\n",
              "      <td>M</td>\n",
              "      <td>45</td>\n",
              "      <td>7</td>\n",
              "      <td>02460</td>\n",
              "    </tr>\n",
              "    <tr>\n",
              "      <th>4</th>\n",
              "      <td>5</td>\n",
              "      <td>M</td>\n",
              "      <td>25</td>\n",
              "      <td>20</td>\n",
              "      <td>55455</td>\n",
              "    </tr>\n",
              "  </tbody>\n",
              "</table>\n",
              "</div>"
            ],
            "text/plain": [
              "   0  1   2   3      4\n",
              "0  1  F   1  10  48067\n",
              "1  2  M  56  16  70072\n",
              "2  3  M  25  15  55117\n",
              "3  4  M  45   7  02460\n",
              "4  5  M  25  20  55455"
            ]
          },
          "metadata": {
            "tags": []
          },
          "execution_count": 18
        }
      ]
    },
    {
      "metadata": {
        "id": "yQs0iYsrBSIP",
        "colab_type": "code",
        "colab": {}
      },
      "cell_type": "code",
      "source": [
        "ratings=pd.read_csv('ratings.dat',sep='::',header=None,engine='python',encoding='latin-1')"
      ],
      "execution_count": 0,
      "outputs": []
    },
    {
      "metadata": {
        "id": "p8patdTuCLoQ",
        "colab_type": "code",
        "colab": {
          "base_uri": "https://localhost:8080/",
          "height": 204
        },
        "outputId": "67e3c642-be1a-4fa5-f976-884397120dee"
      },
      "cell_type": "code",
      "source": [
        "ratings.head()"
      ],
      "execution_count": 20,
      "outputs": [
        {
          "output_type": "execute_result",
          "data": {
            "text/html": [
              "<div>\n",
              "<style scoped>\n",
              "    .dataframe tbody tr th:only-of-type {\n",
              "        vertical-align: middle;\n",
              "    }\n",
              "\n",
              "    .dataframe tbody tr th {\n",
              "        vertical-align: top;\n",
              "    }\n",
              "\n",
              "    .dataframe thead th {\n",
              "        text-align: right;\n",
              "    }\n",
              "</style>\n",
              "<table border=\"1\" class=\"dataframe\">\n",
              "  <thead>\n",
              "    <tr style=\"text-align: right;\">\n",
              "      <th></th>\n",
              "      <th>0</th>\n",
              "      <th>1</th>\n",
              "      <th>2</th>\n",
              "      <th>3</th>\n",
              "    </tr>\n",
              "  </thead>\n",
              "  <tbody>\n",
              "    <tr>\n",
              "      <th>0</th>\n",
              "      <td>1</td>\n",
              "      <td>1193</td>\n",
              "      <td>5</td>\n",
              "      <td>978300760</td>\n",
              "    </tr>\n",
              "    <tr>\n",
              "      <th>1</th>\n",
              "      <td>1</td>\n",
              "      <td>661</td>\n",
              "      <td>3</td>\n",
              "      <td>978302109</td>\n",
              "    </tr>\n",
              "    <tr>\n",
              "      <th>2</th>\n",
              "      <td>1</td>\n",
              "      <td>914</td>\n",
              "      <td>3</td>\n",
              "      <td>978301968</td>\n",
              "    </tr>\n",
              "    <tr>\n",
              "      <th>3</th>\n",
              "      <td>1</td>\n",
              "      <td>3408</td>\n",
              "      <td>4</td>\n",
              "      <td>978300275</td>\n",
              "    </tr>\n",
              "    <tr>\n",
              "      <th>4</th>\n",
              "      <td>1</td>\n",
              "      <td>2355</td>\n",
              "      <td>5</td>\n",
              "      <td>978824291</td>\n",
              "    </tr>\n",
              "  </tbody>\n",
              "</table>\n",
              "</div>"
            ],
            "text/plain": [
              "   0     1  2          3\n",
              "0  1  1193  5  978300760\n",
              "1  1   661  3  978302109\n",
              "2  1   914  3  978301968\n",
              "3  1  3408  4  978300275\n",
              "4  1  2355  5  978824291"
            ]
          },
          "metadata": {
            "tags": []
          },
          "execution_count": 20
        }
      ]
    },
    {
      "metadata": {
        "id": "kC9JqUCbCLrM",
        "colab_type": "code",
        "colab": {}
      },
      "cell_type": "code",
      "source": [
        "training_set=pd.read_csv('u1.base', delimiter='\\t')"
      ],
      "execution_count": 0,
      "outputs": []
    },
    {
      "metadata": {
        "id": "6uMD7wMcCLuH",
        "colab_type": "code",
        "colab": {
          "base_uri": "https://localhost:8080/",
          "height": 204
        },
        "outputId": "ad0f91fd-85b6-47fa-df33-fc6f47ef78d5"
      },
      "cell_type": "code",
      "source": [
        "training_set.head()"
      ],
      "execution_count": 23,
      "outputs": [
        {
          "output_type": "execute_result",
          "data": {
            "text/html": [
              "<div>\n",
              "<style scoped>\n",
              "    .dataframe tbody tr th:only-of-type {\n",
              "        vertical-align: middle;\n",
              "    }\n",
              "\n",
              "    .dataframe tbody tr th {\n",
              "        vertical-align: top;\n",
              "    }\n",
              "\n",
              "    .dataframe thead th {\n",
              "        text-align: right;\n",
              "    }\n",
              "</style>\n",
              "<table border=\"1\" class=\"dataframe\">\n",
              "  <thead>\n",
              "    <tr style=\"text-align: right;\">\n",
              "      <th></th>\n",
              "      <th>1</th>\n",
              "      <th>1.1</th>\n",
              "      <th>5</th>\n",
              "      <th>874965758</th>\n",
              "    </tr>\n",
              "  </thead>\n",
              "  <tbody>\n",
              "    <tr>\n",
              "      <th>0</th>\n",
              "      <td>1</td>\n",
              "      <td>2</td>\n",
              "      <td>3</td>\n",
              "      <td>876893171</td>\n",
              "    </tr>\n",
              "    <tr>\n",
              "      <th>1</th>\n",
              "      <td>1</td>\n",
              "      <td>3</td>\n",
              "      <td>4</td>\n",
              "      <td>878542960</td>\n",
              "    </tr>\n",
              "    <tr>\n",
              "      <th>2</th>\n",
              "      <td>1</td>\n",
              "      <td>4</td>\n",
              "      <td>3</td>\n",
              "      <td>876893119</td>\n",
              "    </tr>\n",
              "    <tr>\n",
              "      <th>3</th>\n",
              "      <td>1</td>\n",
              "      <td>5</td>\n",
              "      <td>3</td>\n",
              "      <td>889751712</td>\n",
              "    </tr>\n",
              "    <tr>\n",
              "      <th>4</th>\n",
              "      <td>1</td>\n",
              "      <td>7</td>\n",
              "      <td>4</td>\n",
              "      <td>875071561</td>\n",
              "    </tr>\n",
              "  </tbody>\n",
              "</table>\n",
              "</div>"
            ],
            "text/plain": [
              "   1  1.1  5  874965758\n",
              "0  1    2  3  876893171\n",
              "1  1    3  4  878542960\n",
              "2  1    4  3  876893119\n",
              "3  1    5  3  889751712\n",
              "4  1    7  4  875071561"
            ]
          },
          "metadata": {
            "tags": []
          },
          "execution_count": 23
        }
      ]
    },
    {
      "metadata": {
        "id": "ySRE-7kwCLyh",
        "colab_type": "code",
        "colab": {}
      },
      "cell_type": "code",
      "source": [
        "training_set=np.array(training_set, dtype= 'int')"
      ],
      "execution_count": 0,
      "outputs": []
    },
    {
      "metadata": {
        "id": "f9MOajgtCL2g",
        "colab_type": "code",
        "colab": {}
      },
      "cell_type": "code",
      "source": [
        "test_set=pd.read_csv('u1.test', delimiter='\\t')"
      ],
      "execution_count": 0,
      "outputs": []
    },
    {
      "metadata": {
        "id": "xOHG_gtXCL5I",
        "colab_type": "code",
        "colab": {}
      },
      "cell_type": "code",
      "source": [
        "test_set=np.array(test_set, dtype= 'int')"
      ],
      "execution_count": 0,
      "outputs": []
    },
    {
      "metadata": {
        "id": "rPIEPvogCL81",
        "colab_type": "code",
        "colab": {}
      },
      "cell_type": "code",
      "source": [
        "#getting total users and movies\n",
        "nb_users=int(max(max(training_set[:,0]),max(test_set[:,0])))\n",
        "nb_movies=int(max(max(training_set[:,1]),max(test_set[:,1])))"
      ],
      "execution_count": 0,
      "outputs": []
    },
    {
      "metadata": {
        "id": "X4dehqQkE-Iu",
        "colab_type": "code",
        "colab": {
          "base_uri": "https://localhost:8080/",
          "height": 35
        },
        "outputId": "95d1f4c5-d611-442a-dd3d-cbc8978801f5"
      },
      "cell_type": "code",
      "source": [
        "nb_users\n"
      ],
      "execution_count": 31,
      "outputs": [
        {
          "output_type": "execute_result",
          "data": {
            "text/plain": [
              "943"
            ]
          },
          "metadata": {
            "tags": []
          },
          "execution_count": 31
        }
      ]
    },
    {
      "metadata": {
        "id": "f-lmMK4SE-MN",
        "colab_type": "code",
        "colab": {
          "base_uri": "https://localhost:8080/",
          "height": 35
        },
        "outputId": "f99ced5d-8163-4271-bbb0-d6e19b57d6d6"
      },
      "cell_type": "code",
      "source": [
        "nb_movies"
      ],
      "execution_count": 32,
      "outputs": [
        {
          "output_type": "execute_result",
          "data": {
            "text/plain": [
              "1682"
            ]
          },
          "metadata": {
            "tags": []
          },
          "execution_count": 32
        }
      ]
    },
    {
      "metadata": {
        "id": "FmObzZEwE-RT",
        "colab_type": "code",
        "colab": {}
      },
      "cell_type": "code",
      "source": [
        "#converting training_set and test_set to list\n",
        "#users in lines and features in columns\n",
        "def convert(data):\n",
        "    new_data=[]\n",
        "    for id_users in range(1,nb_users+1):\n",
        "        id_movies=data[:,1][data[:,0]==id_users]\n",
        "        id_ratings= data[:,2][data[:,0]==id_users]\n",
        "        ratings = np.zeros(nb_movies)\n",
        "        ratings[id_movies-1]= id_ratings\n",
        "        new_data.append(list(ratings))\n",
        "    return new_data\n",
        "training_set= convert(training_set)\n",
        "test_set= convert(test_set)"
      ],
      "execution_count": 0,
      "outputs": []
    },
    {
      "metadata": {
        "id": "vdoFBpu6E-Py",
        "colab_type": "code",
        "colab": {}
      },
      "cell_type": "code",
      "source": [
        "##converting to torch tensors\n",
        "training_set= torch.FloatTensor(training_set)\n",
        "test_set= torch.FloatTensor(test_set)"
      ],
      "execution_count": 0,
      "outputs": []
    },
    {
      "metadata": {
        "id": "mpkEmjHZCLxO",
        "colab_type": "code",
        "colab": {}
      },
      "cell_type": "code",
      "source": [
        "#constructing architecture of auto encoder\n",
        "#using inheritence\n",
        "class SAE(nn.Module):\n",
        "  def __init__(self, ):\n",
        "    super(SAE, self).__init__()\n",
        "    self.fc1= nn.Linear(nb_movies , 25)\n",
        "    self.fc2= nn.Linear(25, 12)\n",
        "    self.fc3= nn.Linear(12, 25)\n",
        "    self.fc4= nn.Linear(25, nb_movies)\n",
        "    self.activation = nn.Sigmoid()\n",
        "  def forward(self, x):\n",
        "    x=self.activation(self.fc1(x))\n",
        "    x=self.activation(self.fc2(x))\n",
        "    x=self.activation(self.fc3(x))\n",
        "    x=self.fc4(x)    #last layer no activation\n",
        "    return x\n",
        "sae= SAE()\n",
        "criterion= nn.MSELoss()\n",
        "optimizer= optim.RMSprop(sae.parameters(), lr=0.01, weight_decay= 0.5)"
      ],
      "execution_count": 0,
      "outputs": []
    },
    {
      "metadata": {
        "id": "w5gBMOvcSS94",
        "colab_type": "code",
        "colab": {
          "base_uri": "https://localhost:8080/",
          "height": 4067
        },
        "outputId": "b2910f1e-b1a9-4503-d6cf-630d94b1ab94"
      },
      "cell_type": "code",
      "source": [
        "#Training\n",
        "n_epochs=225\n",
        "for epoch in range(1,n_epochs+1):\n",
        "  train_loss=0\n",
        "  s=0.    #no. of users rating at least 1 movie\n",
        "  for id_user in range(nb_users):\n",
        "    input= Variable(training_set[id_user]).unsqueeze(0)  #create batch as torch doesn't take single dim input vector\n",
        "    target = input.clone()\n",
        "    if torch.sum(target.data>0) > 0:\n",
        "      output= sae.forward(input)\n",
        "      target.require_grad= False\n",
        "      output[target==0] = 0   #not counting unrated movies\n",
        "      loss= criterion(output, target)\n",
        "      mean_corrector= nb_movies/float(torch.sum(target.data >0) + 1e-10)\n",
        "      loss.backward()      #direction\n",
        "      train_loss+= np.sqrt(loss.data[0]*mean_corrector)\n",
        "      s+=1.\n",
        "      optimizer.step()        #intensity of updation\n",
        "  print ('epoch: '+ str(epoch)+ ' '+ str(train_loss/s))\n",
        "    \n",
        "  "
      ],
      "execution_count": 44,
      "outputs": [
        {
          "output_type": "stream",
          "text": [
            "epoch: 1 0.9727046899674473\n",
            "epoch: 2 0.9798302252696824\n",
            "epoch: 3 0.9693332119458502\n",
            "epoch: 4 0.9744958729370341\n",
            "epoch: 5 0.9689651236982545\n",
            "epoch: 6 0.9704900535953759\n",
            "epoch: 7 0.9642330438186607\n",
            "epoch: 8 0.9665403902358554\n",
            "epoch: 9 0.9620947239056835\n",
            "epoch: 10 0.9648763961643179\n",
            "epoch: 11 0.9618907861487668\n",
            "epoch: 12 0.962982212119985\n",
            "epoch: 13 0.9585611061040789\n",
            "epoch: 14 0.9644789963256566\n",
            "epoch: 15 0.9596381759953139\n",
            "epoch: 16 0.9661265019771612\n",
            "epoch: 17 0.9580698872074519\n",
            "epoch: 18 0.9608729091551164\n",
            "epoch: 19 0.9576318810379613\n",
            "epoch: 20 0.9586348819071934\n",
            "epoch: 21 0.9544755943877478\n",
            "epoch: 22 0.9549098385139864\n",
            "epoch: 23 0.9522146541353239\n",
            "epoch: 24 0.9528976601585006\n",
            "epoch: 25 0.9494414399725603\n",
            "epoch: 26 0.951180978503307\n",
            "epoch: 27 0.9498363914531317\n",
            "epoch: 28 0.9551807656158404\n",
            "epoch: 29 0.9471474668228739\n",
            "epoch: 30 0.9565654798803198\n",
            "epoch: 31 0.9547278932151197\n",
            "epoch: 32 0.9542470946622663\n",
            "epoch: 33 0.9531122756088505\n",
            "epoch: 34 0.9504487840552988\n",
            "epoch: 35 0.9483424060136246\n",
            "epoch: 36 0.9465010274342309\n",
            "epoch: 37 0.9455239613571838\n",
            "epoch: 38 0.9552176664755903\n",
            "epoch: 39 0.9525215256248407\n",
            "epoch: 40 0.9573028642087419\n",
            "epoch: 41 0.954807005750442\n",
            "epoch: 42 0.951437707426214\n",
            "epoch: 43 0.9492466625813921\n",
            "epoch: 44 0.9521327303536448\n",
            "epoch: 45 0.9482717919464412\n",
            "epoch: 46 0.9510750642058069\n",
            "epoch: 47 0.9465582227326416\n",
            "epoch: 48 0.9471343571586005\n",
            "epoch: 49 0.944062863274014\n",
            "epoch: 50 0.9466279174858552\n",
            "epoch: 51 0.9456841826186518\n",
            "epoch: 52 0.9410716971878946\n",
            "epoch: 53 0.9402128085474729\n",
            "epoch: 54 0.9419530839774639\n",
            "epoch: 55 0.9390627670456398\n",
            "epoch: 56 0.9399738406780798\n",
            "epoch: 57 0.9389689060409311\n",
            "epoch: 58 0.9387022272488064\n",
            "epoch: 59 0.9372465703653076\n",
            "epoch: 60 0.9377147268850231\n",
            "epoch: 61 0.9462521399324713\n",
            "epoch: 62 0.9527578971495985\n",
            "epoch: 63 0.9466798853466849\n",
            "epoch: 64 0.9498820462370786\n",
            "epoch: 65 0.944739951695624\n",
            "epoch: 66 0.9440208127427409\n",
            "epoch: 67 0.9404495962805182\n",
            "epoch: 68 0.9419477589476555\n",
            "epoch: 69 0.9379706920132068\n",
            "epoch: 70 0.939411454019249\n",
            "epoch: 71 0.9365055904072787\n",
            "epoch: 72 0.9375755854203695\n",
            "epoch: 73 0.934449927016623\n",
            "epoch: 74 0.9359094891112868\n",
            "epoch: 75 0.9342014451557762\n",
            "epoch: 76 0.9361690950238625\n",
            "epoch: 77 0.933420513777297\n",
            "epoch: 78 0.9362113430279982\n",
            "epoch: 79 0.9380244409616916\n",
            "epoch: 80 0.9375653279456766\n",
            "epoch: 81 0.9335518907348743\n",
            "epoch: 82 0.9325620106877213\n",
            "epoch: 83 0.9330535829671623\n",
            "epoch: 84 0.9327180318683206\n",
            "epoch: 85 0.9368659387734852\n",
            "epoch: 86 0.9308005099914812\n",
            "epoch: 87 0.9307885865869644\n",
            "epoch: 88 0.9305465124025288\n",
            "epoch: 89 0.9302635788963084\n",
            "epoch: 90 0.9294071912798155\n",
            "epoch: 91 0.9294524215815377\n",
            "epoch: 92 0.9281646679101376\n",
            "epoch: 93 0.927831071724788\n",
            "epoch: 94 0.9273604247853815\n",
            "epoch: 95 0.9267900591200263\n",
            "epoch: 96 0.9265469607830985\n",
            "epoch: 97 0.9266981079295925\n",
            "epoch: 98 0.9253768266763055\n",
            "epoch: 99 0.9253296848861563\n",
            "epoch: 100 0.9258893061970278\n",
            "epoch: 101 0.9258269401880058\n",
            "epoch: 102 0.924825075841256\n",
            "epoch: 103 0.9246057899290396\n",
            "epoch: 104 0.9241214712064785\n",
            "epoch: 105 0.9248297404819638\n",
            "epoch: 106 0.9235343411157741\n",
            "epoch: 107 0.923444264086381\n",
            "epoch: 108 0.9230936948800128\n",
            "epoch: 109 0.9229870484226311\n",
            "epoch: 110 0.9224066014749499\n",
            "epoch: 111 0.9227341836452058\n",
            "epoch: 112 0.9221387795196182\n",
            "epoch: 113 0.92227708552643\n",
            "epoch: 114 0.9216079262124581\n",
            "epoch: 115 0.9218570812835346\n",
            "epoch: 116 0.9208767423019453\n",
            "epoch: 117 0.921108866603195\n",
            "epoch: 118 0.9203188771631862\n",
            "epoch: 119 0.9209608638723914\n",
            "epoch: 120 0.9204257131413989\n",
            "epoch: 121 0.920148390491336\n",
            "epoch: 122 0.9198544716719509\n",
            "epoch: 123 0.9202779579102537\n",
            "epoch: 124 0.9240954449386375\n",
            "epoch: 125 0.9276466122828338\n",
            "epoch: 126 0.9245780893852493\n",
            "epoch: 127 0.9241224862647431\n",
            "epoch: 128 0.9219160674847807\n",
            "epoch: 129 0.9214277177068764\n",
            "epoch: 130 0.919883542826595\n",
            "epoch: 131 0.9194386214687031\n",
            "epoch: 132 0.9183914582685945\n",
            "epoch: 133 0.9179290145737826\n",
            "epoch: 134 0.9177246715797548\n",
            "epoch: 135 0.9184347406210817\n",
            "epoch: 136 0.9181464416831469\n",
            "epoch: 137 0.917471331685022\n",
            "epoch: 138 0.9174550262515007\n",
            "epoch: 139 0.9167897287473651\n",
            "epoch: 140 0.9171832290125547\n",
            "epoch: 141 0.9163116648697379\n",
            "epoch: 142 0.9165365301310875\n",
            "epoch: 143 0.9159974204407016\n",
            "epoch: 144 0.9159377563754282\n",
            "epoch: 145 0.915491261030351\n",
            "epoch: 146 0.915629555277977\n",
            "epoch: 147 0.9157023817811566\n",
            "epoch: 148 0.9152845973968381\n",
            "epoch: 149 0.9150642678974444\n",
            "epoch: 150 0.9149634364148821\n",
            "epoch: 151 0.9145942250393897\n",
            "epoch: 152 0.9144695033573415\n",
            "epoch: 153 0.9139919195301631\n",
            "epoch: 154 0.914112771145531\n",
            "epoch: 155 0.9139701801422622\n",
            "epoch: 156 0.9136693534441481\n",
            "epoch: 157 0.9132651540755884\n",
            "epoch: 158 0.9131335734754037\n",
            "epoch: 159 0.9128574601371277\n",
            "epoch: 160 0.912548845098492\n",
            "epoch: 161 0.9123363125559666\n",
            "epoch: 162 0.9124932117407594\n",
            "epoch: 163 0.9125520309114278\n",
            "epoch: 164 0.9117952756958021\n",
            "epoch: 165 0.9121903207042148\n",
            "epoch: 166 0.911380994497818\n",
            "epoch: 167 0.9115520829702279\n",
            "epoch: 168 0.9109174736030621\n",
            "epoch: 169 0.9109338819932428\n",
            "epoch: 170 0.9102856362105686\n",
            "epoch: 171 0.9101496840986991\n",
            "epoch: 172 0.9097473013582353\n",
            "epoch: 173 0.9096923152305824\n",
            "epoch: 174 0.90926084507232\n",
            "epoch: 175 0.9092904481167797\n",
            "epoch: 176 0.908599284535368\n",
            "epoch: 177 0.9087165656318309\n",
            "epoch: 178 0.9086773704070678\n",
            "epoch: 179 0.9082057072737749\n",
            "epoch: 180 0.9077079299292816\n",
            "epoch: 181 0.9076184646576175\n",
            "epoch: 182 0.9067657694645215\n",
            "epoch: 183 0.9069674374135586\n",
            "epoch: 184 0.9060709631998932\n",
            "epoch: 185 0.9061240941662984\n",
            "epoch: 186 0.9052116822531415\n",
            "epoch: 187 0.9051854769159703\n",
            "epoch: 188 0.9041666527544333\n",
            "epoch: 189 0.904202798932204\n",
            "epoch: 190 0.9030874796580297\n",
            "epoch: 191 0.9031269066793434\n",
            "epoch: 192 0.9018626000427636\n",
            "epoch: 193 0.9021018756505906\n",
            "epoch: 194 0.9006918786604062\n",
            "epoch: 195 0.9007241759286846\n",
            "epoch: 196 0.8992798753980173\n",
            "epoch: 197 0.8991765347978339\n",
            "epoch: 198 0.8979840286254169\n",
            "epoch: 199 0.8976999511511263\n",
            "epoch: 200 0.8967764120953495\n",
            "epoch: 201 0.8965601421815212\n",
            "epoch: 202 0.8955206144718499\n",
            "epoch: 203 0.8950978042580611\n",
            "epoch: 204 0.8943273106752587\n",
            "epoch: 205 0.8936656097578015\n",
            "epoch: 206 0.8930127625820373\n",
            "epoch: 207 0.892471370996621\n",
            "epoch: 208 0.8918876710224695\n",
            "epoch: 209 0.8911383353370618\n",
            "epoch: 210 0.8907902960550561\n",
            "epoch: 211 0.8904084457402901\n",
            "epoch: 212 0.8896108096420745\n",
            "epoch: 213 0.8890434450297405\n",
            "epoch: 214 0.8886693213495207\n",
            "epoch: 215 0.8878902998984896\n",
            "epoch: 216 0.8875182726975315\n",
            "epoch: 217 0.8866395990459606\n",
            "epoch: 218 0.8863015315233052\n",
            "epoch: 219 0.8856919456106179\n",
            "epoch: 220 0.8851092063474512\n",
            "epoch: 221 0.8845941241809164\n",
            "epoch: 222 0.8841518070189798\n",
            "epoch: 223 0.883949971263616\n",
            "epoch: 224 0.8831750700959035\n",
            "epoch: 225 0.8824596024620563\n"
          ],
          "name": "stdout"
        }
      ]
    },
    {
      "metadata": {
        "id": "ItWOvs_XcvmV",
        "colab_type": "code",
        "colab": {
          "base_uri": "https://localhost:8080/",
          "height": 35
        },
        "outputId": "8db9005f-6177-456b-fadd-9b638b98cd05"
      },
      "cell_type": "code",
      "source": [
        "test_loss=0\n",
        "s=0.    #no. of users rating at least 1 movie\n",
        "for id_user in range(nb_users):\n",
        "    input= Variable(training_set[id_user]).unsqueeze(0)  #create batch as torch doesn't take single dim input vector\n",
        "    target = Variable(test_set[id_user])\n",
        "    if torch.sum(target.data>0) > 0:\n",
        "      output= sae.forward(input)\n",
        "      target.require_grad= False\n",
        "      output[target==0] = 0   #not counting unrated movies\n",
        "      loss= criterion(output, target)\n",
        "      mean_corrector= nb_movies/float(torch.sum(target.data >0) + 1e-10)\n",
        "      test_loss+= np.sqrt(loss.data[0]*mean_corrector)\n",
        "      s+=1.\n",
        "      optimizer.step()        #intensity of updation\n",
        "print ('test_loss: '+ str(test_loss/s))\n"
      ],
      "execution_count": 45,
      "outputs": [
        {
          "output_type": "stream",
          "text": [
            "test_loss: 0.9415147210832776\n"
          ],
          "name": "stdout"
        }
      ]
    }
  ]
}